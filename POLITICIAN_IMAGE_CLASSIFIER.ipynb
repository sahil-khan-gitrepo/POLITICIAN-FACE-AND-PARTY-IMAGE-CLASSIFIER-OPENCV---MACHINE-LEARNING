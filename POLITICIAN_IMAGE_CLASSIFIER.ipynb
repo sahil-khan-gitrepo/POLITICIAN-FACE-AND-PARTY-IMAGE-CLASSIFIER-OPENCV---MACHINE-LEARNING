{
  "nbformat": 4,
  "nbformat_minor": 0,
  "metadata": {
    "colab": {
      "provenance": []
    },
    "kernelspec": {
      "name": "python3",
      "display_name": "Python 3"
    },
    "language_info": {
      "name": "python"
    }
  },
  "cells": [
    {
      "cell_type": "code",
      "execution_count": null,
      "metadata": {
        "id": "XvocIfVAxxu6"
      },
      "outputs": [],
      "source": [
        "import pandas as pd\n",
        "import numpy as np\n",
        "import cv2\n",
        "from matplotlib import pyplot as plt\n",
        "%matplotlib inline\n"
      ]
    },
    {
      "cell_type": "code",
      "source": [
        "from google.colab import drive\n",
        "drive.mount('/content/drive')"
      ],
      "metadata": {
        "colab": {
          "base_uri": "https://localhost:8080/"
        },
        "id": "qgfMmUK94LJL",
        "outputId": "ad8de4d8-8952-4aed-e674-57e08066b9d0"
      },
      "execution_count": null,
      "outputs": [
        {
          "output_type": "stream",
          "name": "stdout",
          "text": [
            "Mounted at /content/drive\n"
          ]
        }
      ]
    },
    {
      "cell_type": "code",
      "source": [
        "img=cv2.imread('/content/drive/MyDrive/Colab Notebooks/colab dataset/model/datasets/rohit_sharma/5e5443ebaeeb1b3ea42415d013fc3437.jpg')\n",
        "img.shape"
      ],
      "metadata": {
        "colab": {
          "base_uri": "https://localhost:8080/"
        },
        "id": "HscrtvwXQdMO",
        "outputId": "90f47d90-e15d-43e9-d6dc-4e94a6e9115e"
      },
      "execution_count": null,
      "outputs": [
        {
          "output_type": "execute_result",
          "data": {
            "text/plain": [
              "(1024, 710, 3)"
            ]
          },
          "metadata": {},
          "execution_count": 3
        }
      ]
    },
    {
      "cell_type": "code",
      "source": [
        "plt.imshow(img)"
      ],
      "metadata": {
        "id": "hdc5tVyO0Bso",
        "collapsed": true
      },
      "execution_count": null,
      "outputs": []
    },
    {
      "cell_type": "code",
      "source": [
        "gray=cv2.cvtColor(img,cv2.COLOR_BGR2GRAY)\n",
        "plt.imshow(gray,cmap='gray')"
      ],
      "metadata": {
        "id": "YgruSReH1Dd-"
      },
      "execution_count": null,
      "outputs": []
    },
    {
      "cell_type": "markdown",
      "source": [
        "import haarascascade from opencv"
      ],
      "metadata": {
        "id": "2RmO_T6m4tc2"
      }
    },
    {
      "cell_type": "code",
      "source": [
        "face_cascade= cv2.CascadeClassifier('/content/drive/MyDrive/Colab Notebooks/colab dataset/model/opencv/haarcascades/haarcascade_frontalface_default.xml')\n",
        "eye_cascade= cv2.CascadeClassifier('/content/drive/MyDrive/Colab Notebooks/colab dataset/model/opencv/haarcascades/haarcascade_eye.xml')\n",
        "faces=face_cascade.detectMultiScale(gray,1.3,5)\n",
        "faces"
      ],
      "metadata": {
        "colab": {
          "base_uri": "https://localhost:8080/"
        },
        "id": "MHChNIJF1TZ8",
        "outputId": "dc1721fe-ee56-4dcd-d3c2-cf59d4e842cd"
      },
      "execution_count": null,
      "outputs": [
        {
          "output_type": "execute_result",
          "data": {
            "text/plain": [
              "array([[153, 181, 365, 365]], dtype=int32)"
            ]
          },
          "metadata": {},
          "execution_count": 6
        }
      ]
    },
    {
      "cell_type": "code",
      "source": [],
      "metadata": {
        "id": "ld_d68H45tED"
      },
      "execution_count": null,
      "outputs": []
    },
    {
      "cell_type": "code",
      "source": [
        "(x,y,w,h)=faces[0]\n",
        "face_img=cv2.rectangle(img,(x,y),(x+w,y+h),(255,0,0),2)\n",
        "plt.imshow(face_img)"
      ],
      "metadata": {
        "id": "Ww9PaKeY5RBL"
      },
      "execution_count": null,
      "outputs": []
    },
    {
      "cell_type": "code",
      "source": [
        "for (x,y,w,h) in faces:\n",
        "  img = cv2.rectangle(img,(x,y),(x+w,y+h),(255,0,0),2)\n",
        "  roi_gray = gray[y:y+h, x:x+w]\n",
        "  roi_color = img[y:y+h, x:x+w]\n",
        "  eyes = eye_cascade.detectMultiScale(roi_gray)\n",
        "  for (ex,ey,ew,eh) in eyes:\n",
        "    cv2.rectangle(roi_color,(ex,ey),(ex+ew,ey+eh),(0,255,0),2)\n",
        "\n",
        "plt.figure()\n",
        "plt.imshow(face_img, cmap='gray')\n",
        "plt.show()\n",
        "\n"
      ],
      "metadata": {
        "id": "pCsq6jfD5-Ww"
      },
      "execution_count": null,
      "outputs": []
    },
    {
      "cell_type": "code",
      "source": [
        "%matplotlib inline\n",
        "plt.imshow(roi_color, cmap='gray') #crop the face region by roi_color(region of interest) that is red"
      ],
      "metadata": {
        "id": "LG-aAO388RuO"
      },
      "execution_count": null,
      "outputs": []
    },
    {
      "cell_type": "markdown",
      "source": [
        "Write a function that takes input a normal image and return cropped image"
      ],
      "metadata": {
        "id": "NAt4Pu6p-UVg"
      }
    },
    {
      "cell_type": "code",
      "source": [
        "import os\n",
        "def get_cropped_image_if_2_eyes(image_path):\n",
        "  if not os.path.exists(image_path):\n",
        "    print(f\"Error: Image file does not exist at {image_path}\")\n",
        "    return None\n",
        "  img = cv2.imread(image_path)\n",
        "  if img is None:\n",
        "    print(f\"Error: Unable to read image file at {image_path}\")\n",
        "    return None\n",
        "\n",
        "  img=cv2.imread(image_path)\n",
        "  gray=cv2.cvtColor(img, cv2.COLOR_BGR2GRAY)\n",
        "  faces=face_cascade.detectMultiScale(gray,1.3,5)\n",
        "  for(x,y,w,h) in faces:\n",
        "    roi_gray = gray[y:y+h, x:x+w]\n",
        "    roi_color = img[y:y+h, x:x+w]\n",
        "    eyes = eye_cascade.detectMultiScale(roi_gray)\n",
        "    if len(eyes)>=2:      #if there are 2 or more eyes then only consider that image\n",
        "       return roi_color"
      ],
      "metadata": {
        "id": "jQApN2eS93BR"
      },
      "execution_count": null,
      "outputs": []
    },
    {
      "cell_type": "code",
      "source": [
        "cropped_image=get_cropped_image_if_2_eyes('/content/drive/MyDrive/Colab Notebooks/colab dataset/model/datasets/virat_kohli/Virat_Kohli_portrait.jpg')\n",
        "plt.imshow(cropped_image)"
      ],
      "metadata": {
        "id": "ygEODchvAcJ0"
      },
      "execution_count": null,
      "outputs": []
    },
    {
      "cell_type": "markdown",
      "source": [
        "make a cropped folder to store all the images\n"
      ],
      "metadata": {
        "id": "thJaFYzmBEL_"
      }
    },
    {
      "cell_type": "code",
      "source": [
        "path_to_data=\"/content/drive/MyDrive/Colab Notebooks/colab dataset/model/datasets/\"\n",
        "path_to_cr_data=\"/content/drive/MyDrive/Colab Notebooks/colab dataset/model/datasets/cropped/\""
      ],
      "metadata": {
        "id": "HH1HQ8O7BF61"
      },
      "execution_count": null,
      "outputs": []
    },
    {
      "cell_type": "code",
      "source": [
        "#to get complete path of individual player folder\n",
        "import os\n",
        "img_dirs=[]\n",
        "for entry in os.scandir(path_to_data):\n",
        "  if entry.is_dir():\n",
        "    img_dirs.append(entry.path)"
      ],
      "metadata": {
        "id": "mrHKm1KfArY-"
      },
      "execution_count": null,
      "outputs": []
    },
    {
      "cell_type": "code",
      "source": [
        "img_dirs"
      ],
      "metadata": {
        "colab": {
          "base_uri": "https://localhost:8080/"
        },
        "id": "GUCC4K9DEiQJ",
        "outputId": "3f878369-4051-4b1c-cbff-3d0a63f99249"
      },
      "execution_count": null,
      "outputs": [
        {
          "output_type": "execute_result",
          "data": {
            "text/plain": [
              "['/content/drive/MyDrive/Colab Notebooks/colab dataset/model/datasets/maahi',\n",
              " '/content/drive/MyDrive/Colab Notebooks/colab dataset/model/datasets/lionel_messi',\n",
              " '/content/drive/MyDrive/Colab Notebooks/colab dataset/model/datasets/virat_kohli',\n",
              " '/content/drive/MyDrive/Colab Notebooks/colab dataset/model/datasets/rohit_sharma',\n",
              " '/content/drive/MyDrive/Colab Notebooks/colab dataset/model/datasets/cristiano_ronaldo',\n",
              " '/content/drive/MyDrive/Colab Notebooks/colab dataset/model/datasets/cropped']"
            ]
          },
          "metadata": {},
          "execution_count": 18
        }
      ]
    },
    {
      "cell_type": "code",
      "source": [
        "#if folder exists then replace it with cropped folder\n",
        "import shutil\n",
        "if not os.path.exists(path_to_cr_data):\n",
        "  os.mkdir(path_to_cr_data)"
      ],
      "metadata": {
        "id": "fTN2_pekEsFV"
      },
      "execution_count": null,
      "outputs": []
    },
    {
      "cell_type": "code",
      "source": [
        "#iterate through image directories\n",
        "cropped_image_dirs=[]\n",
        "celebrity_file_names_dict={}\n",
        "for img_dir in img_dirs:\n",
        "  count=1\n",
        "  celebrity_name=img_dir.split('/')[-1]  #split the address into two tokens and use last token that will be name of celibrity\n",
        "  print(celebrity_name)\n",
        "\n",
        "  celebrity_file_names_dict[celebrity_name]=[]  #dictionary\n",
        "  for entry in os.scandir(img_dir):  #scandir will iterate on all the pictures\n",
        "    roi_color=get_cropped_image_if_2_eyes(entry.path)\n",
        "    if roi_color is not None:\n",
        "      cropped_folder=path_to_cr_data+celebrity_name  #create cropped folder for particular celebrity\n",
        "      if not os.path.exists(cropped_folder):\n",
        "        os.makedirs(cropped_folder)\n",
        "        cropped_image_dirs.append(cropped_folder)\n",
        "        print(\"Generating cropped images in folder: \",cropped_folder)\n",
        "      cropped_file_name=celebrity_name+str(count)+\".png\"      #store the cropped file as messi1.png messi2.png\n",
        "      cropped_file_path=cropped_folder+\"/\"+cropped_file_name\n",
        "      #used for first time only\n",
        "\n",
        "      cv2.imwrite(cropped_file_path, roi_color)  #store imamges\n",
        "      celebrity_file_names_dict[celebrity_name].append(cropped_file_path)  #make a dictionary having key as name and value as array of path of all the images stored\n",
        "      count+=1"
      ],
      "metadata": {
        "colab": {
          "base_uri": "https://localhost:8080/"
        },
        "id": "YXbtCz78FAqG",
        "outputId": "39c173a0-63df-4d09-a601-0b03ee14858f"
      },
      "execution_count": null,
      "outputs": [
        {
          "output_type": "stream",
          "name": "stdout",
          "text": [
            "maahi\n",
            "lionel_messi\n",
            "virat_kohli\n",
            "rohit_sharma\n",
            "cristiano_ronaldo\n"
          ]
        }
      ]
    },
    {
      "cell_type": "markdown",
      "source": [
        "Now the images are cropped but it also contains images of other people faces and also blurred images\n",
        "\n",
        "so we have to remove those images manually\n"
      ],
      "metadata": {
        "id": "sc9B87EBzrox"
      }
    },
    {
      "cell_type": "code",
      "source": [
        "#Now to feature extraction of cleaned images by wavelet transformation(one of the most effective feature engineering\n",
        "#this func input an image to perform wavelet transformation then it will return a new image that is wavelet transformed\n",
        "#wavelt uses fourier transformation with some modification\n",
        "\n",
        "import numpy as np\n",
        "import pywt\n",
        "import cv2\n",
        "\n",
        "def w2d(img, mode='haar', level=1):\n",
        "    imArray = img\n",
        "    #Datatype conversions\n",
        "    #convert to grayscale\n",
        "    imArray = cv2.cvtColor( imArray,cv2.COLOR_RGB2GRAY )\n",
        "    #convert to float\n",
        "    imArray =  np.float32(imArray)\n",
        "    imArray /= 255;\n",
        "    # compute coefficients\n",
        "    coeffs=pywt.wavedec2(imArray, mode, level=level)\n",
        "\n",
        "    #Process Coefficients\n",
        "    coeffs_H=list(coeffs)\n",
        "    coeffs_H[0] *= 0;\n",
        "\n",
        "    # reconstruction\n",
        "    imArray_H=pywt.waverec2(coeffs_H, mode);\n",
        "    imArray_H *= 255;\n",
        "    imArray_H =  np.uint8(imArray_H)\n",
        "\n",
        "    return imArray_H\n",
        "im_har = w2d(cropped_image,'db1',5)\n",
        "plt.imshow(im_har, cmap='gray')\n",
        "\n",
        "\n",
        "\n",
        "#this help to find structure of face"
      ],
      "metadata": {
        "id": "N7QkQ2_gGjHs"
      },
      "execution_count": null,
      "outputs": []
    },
    {
      "cell_type": "markdown",
      "source": [
        "We stack raw image vertically on wavelet image by using dictionary in cropped folder"
      ],
      "metadata": {
        "id": "Gt9Hr-2L5Gnt"
      }
    },
    {
      "cell_type": "code",
      "source": [
        "celebrity_file_names_dict"
      ],
      "metadata": {
        "id": "aoCUGWQU4BZl"
      },
      "execution_count": null,
      "outputs": []
    },
    {
      "cell_type": "code",
      "source": [
        "#store celebrity name as dictionary\n",
        "class_dict={}\n",
        "count=0\n",
        "for celebrity_name in celebrity_file_names_dict.keys():\n",
        "  class_dict[celebrity_name]=count\n",
        "  count=count+1\n",
        "class_dict"
      ],
      "metadata": {
        "id": "F43Mqefk8vaF"
      },
      "execution_count": null,
      "outputs": []
    },
    {
      "cell_type": "code",
      "source": [
        "#now iterate through the dictionary\n",
        "X=[]\n",
        "y=[]\n",
        "\n",
        "for celebrity_name,training_files in celebrity_file_names_dict.items(): #iterate through perosn\n",
        "  for training_image in training_files:  #iterate through every image of that person\n",
        "    img=cv2.imread(training_image)  #read and scale raw images to same size\n",
        "    if(img) is None:\n",
        "      continue\n",
        "    scalled_raw_img=cv2.resize(img,(32,32))\n",
        "    img_har=w2d(img,'db1',5)  #wavelet transformation image\n",
        "    scalled_img_har=cv2.resize(img_har,(32,32))\n",
        "    combined_img=np.vstack((scalled_raw_img.reshape(32*32*3,1),scalled_img_har.reshape(32*32,1)))\n",
        "    X.append(combined_img)\n",
        "    y.append(class_dict[celebrity_name])\n",
        "\n",
        "\n"
      ],
      "metadata": {
        "id": "mpQWfsmi6Uaf"
      },
      "execution_count": null,
      "outputs": []
    },
    {
      "cell_type": "code",
      "source": [
        "len(X)"
      ],
      "metadata": {
        "id": "t6NZiO6nByRh"
      },
      "execution_count": null,
      "outputs": []
    },
    {
      "cell_type": "code",
      "source": [
        "X=np.array(X).reshape(len(X),4096).astype(float)  #convert to float to avoid warning by sklearn\n",
        "X.shape"
      ],
      "metadata": {
        "id": "R5ncR3uHCp4g"
      },
      "execution_count": null,
      "outputs": []
    },
    {
      "cell_type": "markdown",
      "source": [
        "Now Train the model\n",
        "\n",
        "first we will use support vector machine because it works good with classifications\n",
        "\n",
        "then use grid search cv to tune parameter and use other models"
      ],
      "metadata": {
        "id": "L9WKJJdtDHGz"
      }
    },
    {
      "cell_type": "code",
      "source": [
        "\n",
        "from sklearn.svm import SVC\n",
        "from sklearn.preprocessing import StandardScaler\n",
        "from sklearn.model_selection import train_test_split\n",
        "from sklearn.pipeline import Pipeline\n",
        "from sklearn.metrics import classification_report"
      ],
      "metadata": {
        "id": "KCV4c31QC6VK"
      },
      "execution_count": null,
      "outputs": []
    },
    {
      "cell_type": "code",
      "source": [
        "\n",
        "X_train, X_test, y_train, y_test = train_test_split(X, y, random_state=10)\n",
        "#use pipeline to scale\n",
        "pipe = Pipeline([('scaler', StandardScaler()), ('svc', SVC(kernel = 'rbf', C = 10))])\n",
        "pipe.fit(X_train, y_train)\n",
        "pipe.score(X_test, y_test)"
      ],
      "metadata": {
        "colab": {
          "base_uri": "https://localhost:8080/"
        },
        "id": "fZriD8Q4KdBX",
        "outputId": "075eb78e-6f03-4092-9039-249e56d783be"
      },
      "execution_count": null,
      "outputs": [
        {
          "output_type": "execute_result",
          "data": {
            "text/plain": [
              "0.8103448275862069"
            ]
          },
          "metadata": {},
          "execution_count": 35
        }
      ]
    },
    {
      "cell_type": "code",
      "source": [
        "print(classification_report(y_test, pipe.predict(X_test)))\n",
        "#this shows accuracy, precison,recall for different celebrity"
      ],
      "metadata": {
        "colab": {
          "base_uri": "https://localhost:8080/"
        },
        "id": "GkpoAWItKfM1",
        "outputId": "1d2bf7e9-1475-41a5-94ab-84d5aff2a9e1"
      },
      "execution_count": null,
      "outputs": [
        {
          "output_type": "stream",
          "name": "stdout",
          "text": [
            "              precision    recall  f1-score   support\n",
            "\n",
            "           0       0.62      1.00      0.77        10\n",
            "           1       1.00      0.75      0.86        16\n",
            "           2       0.88      0.78      0.82         9\n",
            "           3       0.82      0.75      0.78        12\n",
            "           4       0.82      0.82      0.82        11\n",
            "\n",
            "    accuracy                           0.81        58\n",
            "   macro avg       0.83      0.82      0.81        58\n",
            "weighted avg       0.84      0.81      0.81        58\n",
            "\n"
          ]
        }
      ]
    },
    {
      "cell_type": "code",
      "source": [
        "\n",
        "from sklearn import svm\n",
        "from sklearn.ensemble import RandomForestClassifier\n",
        "from sklearn.linear_model import LogisticRegression\n",
        "from sklearn.pipeline import make_pipeline\n",
        "from sklearn.model_selection import GridSearchCV"
      ],
      "metadata": {
        "id": "cYfHnWC94O4x"
      },
      "execution_count": null,
      "outputs": []
    },
    {
      "cell_type": "code",
      "source": [
        "#grid search cv\n",
        "model_params={\n",
        "    'svm':{\n",
        "        'model':svm.SVC(gamma='auto',probability=True),\n",
        "        'params': {\n",
        "            'svc__C': [1,10,100,1000],\n",
        "            'svc__kernel': ['rbf','linear']\n",
        "        }\n",
        "    },\n",
        "    'random_forest': {\n",
        "        'model': RandomForestClassifier(),\n",
        "        'params' : {\n",
        "            'randomforestclassifier__n_estimators': [1,5,10]\n",
        "        }\n",
        "    },\n",
        "    'logistic_regression' : {\n",
        "        'model': LogisticRegression(solver='liblinear',multi_class='auto'),\n",
        "        'params': {\n",
        "            'logisticregression__C': [1,5,10]\n",
        "        }\n",
        "    }\n",
        "}"
      ],
      "metadata": {
        "id": "PYFg5f1Q5E6W"
      },
      "execution_count": null,
      "outputs": []
    },
    {
      "cell_type": "code",
      "source": [
        "scores = []\n",
        "best_estimators = {}\n",
        "import pandas as pd\n",
        "for algo, mp in model_params.items(): #iterate over every model\n",
        "    pipe = make_pipeline(StandardScaler(), mp['model']) #first create pipeline to sclae data\n",
        "    clf =  GridSearchCV(pipe, mp['params'], cv=5, return_train_score=False) #use 5-folds\n",
        "    clf.fit(X_train, y_train)\n",
        "    scores.append({\n",
        "        'model': algo,\n",
        "        'best_score': clf.best_score_,\n",
        "        'best_params': clf.best_params_\n",
        "    })\n",
        "    best_estimators[algo] = clf.best_estimator_\n",
        "\n",
        "df = pd.DataFrame(scores,columns=['model','best_score','best_params'])\n",
        "df"
      ],
      "metadata": {
        "colab": {
          "base_uri": "https://localhost:8080/",
          "height": 143
        },
        "id": "B7Bes02x5r-W",
        "outputId": "7ea9334e-2510-475a-f174-882588e57d06"
      },
      "execution_count": null,
      "outputs": [
        {
          "output_type": "execute_result",
          "data": {
            "text/plain": [
              "                 model  best_score  \\\n",
              "0                  svm    0.747227   \n",
              "1        random_forest    0.580672   \n",
              "2  logistic_regression    0.805042   \n",
              "\n",
              "                                    best_params  \n",
              "0        {'svc__C': 1, 'svc__kernel': 'linear'}  \n",
              "1  {'randomforestclassifier__n_estimators': 10}  \n",
              "2                  {'logisticregression__C': 1}  "
            ],
            "text/html": [
              "\n",
              "  <div id=\"df-61ce9365-ab31-49c3-ae29-1ac02925368b\" class=\"colab-df-container\">\n",
              "    <div>\n",
              "<style scoped>\n",
              "    .dataframe tbody tr th:only-of-type {\n",
              "        vertical-align: middle;\n",
              "    }\n",
              "\n",
              "    .dataframe tbody tr th {\n",
              "        vertical-align: top;\n",
              "    }\n",
              "\n",
              "    .dataframe thead th {\n",
              "        text-align: right;\n",
              "    }\n",
              "</style>\n",
              "<table border=\"1\" class=\"dataframe\">\n",
              "  <thead>\n",
              "    <tr style=\"text-align: right;\">\n",
              "      <th></th>\n",
              "      <th>model</th>\n",
              "      <th>best_score</th>\n",
              "      <th>best_params</th>\n",
              "    </tr>\n",
              "  </thead>\n",
              "  <tbody>\n",
              "    <tr>\n",
              "      <th>0</th>\n",
              "      <td>svm</td>\n",
              "      <td>0.747227</td>\n",
              "      <td>{'svc__C': 1, 'svc__kernel': 'linear'}</td>\n",
              "    </tr>\n",
              "    <tr>\n",
              "      <th>1</th>\n",
              "      <td>random_forest</td>\n",
              "      <td>0.580672</td>\n",
              "      <td>{'randomforestclassifier__n_estimators': 10}</td>\n",
              "    </tr>\n",
              "    <tr>\n",
              "      <th>2</th>\n",
              "      <td>logistic_regression</td>\n",
              "      <td>0.805042</td>\n",
              "      <td>{'logisticregression__C': 1}</td>\n",
              "    </tr>\n",
              "  </tbody>\n",
              "</table>\n",
              "</div>\n",
              "    <div class=\"colab-df-buttons\">\n",
              "\n",
              "  <div class=\"colab-df-container\">\n",
              "    <button class=\"colab-df-convert\" onclick=\"convertToInteractive('df-61ce9365-ab31-49c3-ae29-1ac02925368b')\"\n",
              "            title=\"Convert this dataframe to an interactive table.\"\n",
              "            style=\"display:none;\">\n",
              "\n",
              "  <svg xmlns=\"http://www.w3.org/2000/svg\" height=\"24px\" viewBox=\"0 -960 960 960\">\n",
              "    <path d=\"M120-120v-720h720v720H120Zm60-500h600v-160H180v160Zm220 220h160v-160H400v160Zm0 220h160v-160H400v160ZM180-400h160v-160H180v160Zm440 0h160v-160H620v160ZM180-180h160v-160H180v160Zm440 0h160v-160H620v160Z\"/>\n",
              "  </svg>\n",
              "    </button>\n",
              "\n",
              "  <style>\n",
              "    .colab-df-container {\n",
              "      display:flex;\n",
              "      gap: 12px;\n",
              "    }\n",
              "\n",
              "    .colab-df-convert {\n",
              "      background-color: #E8F0FE;\n",
              "      border: none;\n",
              "      border-radius: 50%;\n",
              "      cursor: pointer;\n",
              "      display: none;\n",
              "      fill: #1967D2;\n",
              "      height: 32px;\n",
              "      padding: 0 0 0 0;\n",
              "      width: 32px;\n",
              "    }\n",
              "\n",
              "    .colab-df-convert:hover {\n",
              "      background-color: #E2EBFA;\n",
              "      box-shadow: 0px 1px 2px rgba(60, 64, 67, 0.3), 0px 1px 3px 1px rgba(60, 64, 67, 0.15);\n",
              "      fill: #174EA6;\n",
              "    }\n",
              "\n",
              "    .colab-df-buttons div {\n",
              "      margin-bottom: 4px;\n",
              "    }\n",
              "\n",
              "    [theme=dark] .colab-df-convert {\n",
              "      background-color: #3B4455;\n",
              "      fill: #D2E3FC;\n",
              "    }\n",
              "\n",
              "    [theme=dark] .colab-df-convert:hover {\n",
              "      background-color: #434B5C;\n",
              "      box-shadow: 0px 1px 3px 1px rgba(0, 0, 0, 0.15);\n",
              "      filter: drop-shadow(0px 1px 2px rgba(0, 0, 0, 0.3));\n",
              "      fill: #FFFFFF;\n",
              "    }\n",
              "  </style>\n",
              "\n",
              "    <script>\n",
              "      const buttonEl =\n",
              "        document.querySelector('#df-61ce9365-ab31-49c3-ae29-1ac02925368b button.colab-df-convert');\n",
              "      buttonEl.style.display =\n",
              "        google.colab.kernel.accessAllowed ? 'block' : 'none';\n",
              "\n",
              "      async function convertToInteractive(key) {\n",
              "        const element = document.querySelector('#df-61ce9365-ab31-49c3-ae29-1ac02925368b');\n",
              "        const dataTable =\n",
              "          await google.colab.kernel.invokeFunction('convertToInteractive',\n",
              "                                                    [key], {});\n",
              "        if (!dataTable) return;\n",
              "\n",
              "        const docLinkHtml = 'Like what you see? Visit the ' +\n",
              "          '<a target=\"_blank\" href=https://colab.research.google.com/notebooks/data_table.ipynb>data table notebook</a>'\n",
              "          + ' to learn more about interactive tables.';\n",
              "        element.innerHTML = '';\n",
              "        dataTable['output_type'] = 'display_data';\n",
              "        await google.colab.output.renderOutput(dataTable, element);\n",
              "        const docLink = document.createElement('div');\n",
              "        docLink.innerHTML = docLinkHtml;\n",
              "        element.appendChild(docLink);\n",
              "      }\n",
              "    </script>\n",
              "  </div>\n",
              "\n",
              "\n",
              "<div id=\"df-0e84c4a5-e4c6-4862-a3bb-afda3dd139bb\">\n",
              "  <button class=\"colab-df-quickchart\" onclick=\"quickchart('df-0e84c4a5-e4c6-4862-a3bb-afda3dd139bb')\"\n",
              "            title=\"Suggest charts\"\n",
              "            style=\"display:none;\">\n",
              "\n",
              "<svg xmlns=\"http://www.w3.org/2000/svg\" height=\"24px\"viewBox=\"0 0 24 24\"\n",
              "     width=\"24px\">\n",
              "    <g>\n",
              "        <path d=\"M19 3H5c-1.1 0-2 .9-2 2v14c0 1.1.9 2 2 2h14c1.1 0 2-.9 2-2V5c0-1.1-.9-2-2-2zM9 17H7v-7h2v7zm4 0h-2V7h2v10zm4 0h-2v-4h2v4z\"/>\n",
              "    </g>\n",
              "</svg>\n",
              "  </button>\n",
              "\n",
              "<style>\n",
              "  .colab-df-quickchart {\n",
              "      --bg-color: #E8F0FE;\n",
              "      --fill-color: #1967D2;\n",
              "      --hover-bg-color: #E2EBFA;\n",
              "      --hover-fill-color: #174EA6;\n",
              "      --disabled-fill-color: #AAA;\n",
              "      --disabled-bg-color: #DDD;\n",
              "  }\n",
              "\n",
              "  [theme=dark] .colab-df-quickchart {\n",
              "      --bg-color: #3B4455;\n",
              "      --fill-color: #D2E3FC;\n",
              "      --hover-bg-color: #434B5C;\n",
              "      --hover-fill-color: #FFFFFF;\n",
              "      --disabled-bg-color: #3B4455;\n",
              "      --disabled-fill-color: #666;\n",
              "  }\n",
              "\n",
              "  .colab-df-quickchart {\n",
              "    background-color: var(--bg-color);\n",
              "    border: none;\n",
              "    border-radius: 50%;\n",
              "    cursor: pointer;\n",
              "    display: none;\n",
              "    fill: var(--fill-color);\n",
              "    height: 32px;\n",
              "    padding: 0;\n",
              "    width: 32px;\n",
              "  }\n",
              "\n",
              "  .colab-df-quickchart:hover {\n",
              "    background-color: var(--hover-bg-color);\n",
              "    box-shadow: 0 1px 2px rgba(60, 64, 67, 0.3), 0 1px 3px 1px rgba(60, 64, 67, 0.15);\n",
              "    fill: var(--button-hover-fill-color);\n",
              "  }\n",
              "\n",
              "  .colab-df-quickchart-complete:disabled,\n",
              "  .colab-df-quickchart-complete:disabled:hover {\n",
              "    background-color: var(--disabled-bg-color);\n",
              "    fill: var(--disabled-fill-color);\n",
              "    box-shadow: none;\n",
              "  }\n",
              "\n",
              "  .colab-df-spinner {\n",
              "    border: 2px solid var(--fill-color);\n",
              "    border-color: transparent;\n",
              "    border-bottom-color: var(--fill-color);\n",
              "    animation:\n",
              "      spin 1s steps(1) infinite;\n",
              "  }\n",
              "\n",
              "  @keyframes spin {\n",
              "    0% {\n",
              "      border-color: transparent;\n",
              "      border-bottom-color: var(--fill-color);\n",
              "      border-left-color: var(--fill-color);\n",
              "    }\n",
              "    20% {\n",
              "      border-color: transparent;\n",
              "      border-left-color: var(--fill-color);\n",
              "      border-top-color: var(--fill-color);\n",
              "    }\n",
              "    30% {\n",
              "      border-color: transparent;\n",
              "      border-left-color: var(--fill-color);\n",
              "      border-top-color: var(--fill-color);\n",
              "      border-right-color: var(--fill-color);\n",
              "    }\n",
              "    40% {\n",
              "      border-color: transparent;\n",
              "      border-right-color: var(--fill-color);\n",
              "      border-top-color: var(--fill-color);\n",
              "    }\n",
              "    60% {\n",
              "      border-color: transparent;\n",
              "      border-right-color: var(--fill-color);\n",
              "    }\n",
              "    80% {\n",
              "      border-color: transparent;\n",
              "      border-right-color: var(--fill-color);\n",
              "      border-bottom-color: var(--fill-color);\n",
              "    }\n",
              "    90% {\n",
              "      border-color: transparent;\n",
              "      border-bottom-color: var(--fill-color);\n",
              "    }\n",
              "  }\n",
              "</style>\n",
              "\n",
              "  <script>\n",
              "    async function quickchart(key) {\n",
              "      const quickchartButtonEl =\n",
              "        document.querySelector('#' + key + ' button');\n",
              "      quickchartButtonEl.disabled = true;  // To prevent multiple clicks.\n",
              "      quickchartButtonEl.classList.add('colab-df-spinner');\n",
              "      try {\n",
              "        const charts = await google.colab.kernel.invokeFunction(\n",
              "            'suggestCharts', [key], {});\n",
              "      } catch (error) {\n",
              "        console.error('Error during call to suggestCharts:', error);\n",
              "      }\n",
              "      quickchartButtonEl.classList.remove('colab-df-spinner');\n",
              "      quickchartButtonEl.classList.add('colab-df-quickchart-complete');\n",
              "    }\n",
              "    (() => {\n",
              "      let quickchartButtonEl =\n",
              "        document.querySelector('#df-0e84c4a5-e4c6-4862-a3bb-afda3dd139bb button');\n",
              "      quickchartButtonEl.style.display =\n",
              "        google.colab.kernel.accessAllowed ? 'block' : 'none';\n",
              "    })();\n",
              "  </script>\n",
              "</div>\n",
              "\n",
              "  <div id=\"id_8f72076c-f719-4772-8293-9a27e43a7f98\">\n",
              "    <style>\n",
              "      .colab-df-generate {\n",
              "        background-color: #E8F0FE;\n",
              "        border: none;\n",
              "        border-radius: 50%;\n",
              "        cursor: pointer;\n",
              "        display: none;\n",
              "        fill: #1967D2;\n",
              "        height: 32px;\n",
              "        padding: 0 0 0 0;\n",
              "        width: 32px;\n",
              "      }\n",
              "\n",
              "      .colab-df-generate:hover {\n",
              "        background-color: #E2EBFA;\n",
              "        box-shadow: 0px 1px 2px rgba(60, 64, 67, 0.3), 0px 1px 3px 1px rgba(60, 64, 67, 0.15);\n",
              "        fill: #174EA6;\n",
              "      }\n",
              "\n",
              "      [theme=dark] .colab-df-generate {\n",
              "        background-color: #3B4455;\n",
              "        fill: #D2E3FC;\n",
              "      }\n",
              "\n",
              "      [theme=dark] .colab-df-generate:hover {\n",
              "        background-color: #434B5C;\n",
              "        box-shadow: 0px 1px 3px 1px rgba(0, 0, 0, 0.15);\n",
              "        filter: drop-shadow(0px 1px 2px rgba(0, 0, 0, 0.3));\n",
              "        fill: #FFFFFF;\n",
              "      }\n",
              "    </style>\n",
              "    <button class=\"colab-df-generate\" onclick=\"generateWithVariable('df')\"\n",
              "            title=\"Generate code using this dataframe.\"\n",
              "            style=\"display:none;\">\n",
              "\n",
              "  <svg xmlns=\"http://www.w3.org/2000/svg\" height=\"24px\"viewBox=\"0 0 24 24\"\n",
              "       width=\"24px\">\n",
              "    <path d=\"M7,19H8.4L18.45,9,17,7.55,7,17.6ZM5,21V16.75L18.45,3.32a2,2,0,0,1,2.83,0l1.4,1.43a1.91,1.91,0,0,1,.58,1.4,1.91,1.91,0,0,1-.58,1.4L9.25,21ZM18.45,9,17,7.55Zm-12,3A5.31,5.31,0,0,0,4.9,8.1,5.31,5.31,0,0,0,1,6.5,5.31,5.31,0,0,0,4.9,4.9,5.31,5.31,0,0,0,6.5,1,5.31,5.31,0,0,0,8.1,4.9,5.31,5.31,0,0,0,12,6.5,5.46,5.46,0,0,0,6.5,12Z\"/>\n",
              "  </svg>\n",
              "    </button>\n",
              "    <script>\n",
              "      (() => {\n",
              "      const buttonEl =\n",
              "        document.querySelector('#id_8f72076c-f719-4772-8293-9a27e43a7f98 button.colab-df-generate');\n",
              "      buttonEl.style.display =\n",
              "        google.colab.kernel.accessAllowed ? 'block' : 'none';\n",
              "\n",
              "      buttonEl.onclick = () => {\n",
              "        google.colab.notebook.generateWithVariable('df');\n",
              "      }\n",
              "      })();\n",
              "    </script>\n",
              "  </div>\n",
              "\n",
              "    </div>\n",
              "  </div>\n"
            ],
            "application/vnd.google.colaboratory.intrinsic+json": {
              "type": "dataframe",
              "variable_name": "df",
              "summary": "{\n  \"name\": \"df\",\n  \"rows\": 3,\n  \"fields\": [\n    {\n      \"column\": \"model\",\n      \"properties\": {\n        \"dtype\": \"string\",\n        \"num_unique_values\": 3,\n        \"samples\": [\n          \"svm\",\n          \"random_forest\",\n          \"logistic_regression\"\n        ],\n        \"semantic_type\": \"\",\n        \"description\": \"\"\n      }\n    },\n    {\n      \"column\": \"best_score\",\n      \"properties\": {\n        \"dtype\": \"number\",\n        \"std\": 0.11649378712456095,\n        \"min\": 0.580672268907563,\n        \"max\": 0.8050420168067227,\n        \"num_unique_values\": 3,\n        \"samples\": [\n          0.7472268907563026,\n          0.580672268907563,\n          0.8050420168067227\n        ],\n        \"semantic_type\": \"\",\n        \"description\": \"\"\n      }\n    },\n    {\n      \"column\": \"best_params\",\n      \"properties\": {\n        \"dtype\": \"object\",\n        \"semantic_type\": \"\",\n        \"description\": \"\"\n      }\n    }\n  ]\n}"
            }
          },
          "metadata": {},
          "execution_count": 49
        }
      ]
    },
    {
      "cell_type": "code",
      "source": [
        "best_estimators['logistic_regression'].score(X_test,y_test)"
      ],
      "metadata": {
        "colab": {
          "base_uri": "https://localhost:8080/"
        },
        "id": "w52PDpji5-TB",
        "outputId": "4f5aad9b-15cf-4a11-c16c-af6a618300b3"
      },
      "execution_count": null,
      "outputs": [
        {
          "output_type": "execute_result",
          "data": {
            "text/plain": [
              "0.8275862068965517"
            ]
          },
          "metadata": {},
          "execution_count": 53
        }
      ]
    },
    {
      "cell_type": "code",
      "source": [
        "best_model=best_estimators['logistic_regression']"
      ],
      "metadata": {
        "id": "irdK-mbl9lkH"
      },
      "execution_count": null,
      "outputs": []
    },
    {
      "cell_type": "code",
      "source": [
        "from sklearn.metrics import confusion_matrix\n",
        "cm=confusion_matrix(y_test,best_model.predict(X_test))\n",
        "cm"
      ],
      "metadata": {
        "colab": {
          "base_uri": "https://localhost:8080/"
        },
        "id": "61tAxhyb9raE",
        "outputId": "af63dee0-a60e-4e77-c823-c1b253ca54e2"
      },
      "execution_count": null,
      "outputs": [
        {
          "output_type": "execute_result",
          "data": {
            "text/plain": [
              "array([[ 7,  1,  0,  2,  0],\n",
              "       [ 0, 14,  0,  1,  1],\n",
              "       [ 0,  0,  8,  0,  1],\n",
              "       [ 1,  1,  1,  9,  0],\n",
              "       [ 1,  0,  0,  0, 10]])"
            ]
          },
          "metadata": {},
          "execution_count": 57
        }
      ]
    },
    {
      "cell_type": "code",
      "source": [
        "import seaborn as sn\n",
        "plt.figure(figsize=(10,7))\n",
        "sn.heatmap(cm,annot=True)\n",
        "plt.xlabel('Predicted')\n",
        "plt.ylabel('Truth')"
      ],
      "metadata": {
        "id": "_kn2aNag-Dh4"
      },
      "execution_count": null,
      "outputs": []
    },
    {
      "cell_type": "code",
      "source": [
        "class_dict"
      ],
      "metadata": {
        "colab": {
          "base_uri": "https://localhost:8080/"
        },
        "id": "KaONQpKS-ltG",
        "outputId": "308d1b8b-c6f0-4ee7-8aec-2d5b961e518b"
      },
      "execution_count": null,
      "outputs": [
        {
          "output_type": "execute_result",
          "data": {
            "text/plain": [
              "{'maahi': 0,\n",
              " 'lionel_messi': 1,\n",
              " 'virat_kohli': 2,\n",
              " 'rohit_sharma': 3,\n",
              " 'cristiano_ronaldo': 4,\n",
              " 'cropped': 5}"
            ]
          },
          "metadata": {},
          "execution_count": 59
        }
      ]
    },
    {
      "cell_type": "markdown",
      "source": [
        "Save the model"
      ],
      "metadata": {
        "id": "pNMbkqPW9Y3o"
      }
    },
    {
      "cell_type": "code",
      "source": [
        "import joblib\n",
        "joblib.dump(best_model,'saved_model.pkl')"
      ],
      "metadata": {
        "colab": {
          "base_uri": "https://localhost:8080/"
        },
        "id": "uEy6Sl4U8uUD",
        "outputId": "c3f05656-5438-458b-bbb5-e4d802948250"
      },
      "execution_count": null,
      "outputs": [
        {
          "output_type": "execute_result",
          "data": {
            "text/plain": [
              "['saved_model.pkl']"
            ]
          },
          "metadata": {},
          "execution_count": 60
        }
      ]
    },
    {
      "cell_type": "markdown",
      "source": [
        "save class dictionary"
      ],
      "metadata": {
        "id": "Z_GBY3lM-5NC"
      }
    },
    {
      "cell_type": "code",
      "source": [
        "import json\n",
        "with open(\"class_dictionary.json\",\"w\") as f:\n",
        "  f.write(json.dumps(class_dict))"
      ],
      "metadata": {
        "id": "jx8bqgwt-05E"
      },
      "execution_count": null,
      "outputs": []
    },
    {
      "cell_type": "code",
      "source": [],
      "metadata": {
        "id": "mPfAdWYX_IFn"
      },
      "execution_count": null,
      "outputs": []
    }
  ]
}